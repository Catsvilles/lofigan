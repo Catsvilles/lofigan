{
 "cells": [
  {
   "cell_type": "code",
   "execution_count": 17,
   "metadata": {},
   "outputs": [],
   "source": [
    "import pydub\n",
    "import numpy as np\n",
    "import os\n",
    "\n",
    "out_dir = './audio_npy'\n",
    "if not os.path.exists(out_dir): os.makedirs(out_dir)\n",
    "\n",
    "\n",
    "def inverse_mu(arr, mu_vaue=256):\n",
    "    arr = arr.astype(np.float64)\n",
    "    arr = (arr - 128) / 128\n",
    "\n",
    "    sign = np.sign(arr)\n",
    "    \n",
    "    base = np.zeros_like(arr)\n",
    "    base.fill(255)\n",
    "    recip = np.reciprocal(base)\n",
    "    power = np.power(base+1, arr) - 1\n",
    "    out = np.multiply(sign, recip)\n",
    "    out = np.multiply(out, power)\n",
    "    return out\n",
    "\n",
    "def preprocess_audio(f, encoding='mp4'):\n",
    "    segment = pydub.AudioSegment.from_file(f, encoding)\n",
    "    data = np.array(segment.get_array_of_samples(), dtype=np.float32) / 2 ** 16\n",
    "    # stereo data, convert to mono by averaging the channels\n",
    "    if (segment.channels == 2):\n",
    "        data = data.reshape((-1, 2))\n",
    "        data = (data[:,0] + data[:,1]) / 2\n",
    "    \n",
    "    mu_transform = np.multiply(np.sign(data), np.log(1 + 255 * np.abs(data)) / np.log(256))\n",
    "    mu_transform[mu_transform >= 0] = mu_transform[mu_transform >=0 ] * 127\n",
    "    mu_transform[mu_transform < 0] = mu_transform[mu_transform < 0] * 128 \n",
    "    return mu_transform.astype('int32') + 128, data"
   ]
  },
  {
   "cell_type": "code",
   "execution_count": 28,
   "metadata": {},
   "outputs": [],
   "source": [
    "values = (values - 128).astype('float32')\n",
    "values[values >= 0] = values[values >=0] /  127\n",
    "values[values < 0] = values[values < 0] / 128\n",
    "\n",
    "sign = np.sign(values)\n",
    "base = np.zeros_like(sign)\n",
    "base.fill(255)\n",
    "divide = np.reciprocal(base)\n",
    "power = np.power(base+1, np.abs(values)) - 1\n",
    "out = np.multiply(divide, power)\n",
    "out = np.multiply(out, sign)\n"
   ]
  },
  {
   "cell_type": "code",
   "execution_count": 27,
   "metadata": {
    "scrolled": true
   },
   "outputs": [
    {
     "data": {
      "image/png": "[encoded data removed]",
      "text/plain": [
       "<Figure size 432x288 with 1 Axes>"
      ]
     },
     "metadata": {
      "needs_background": "light"
     },
     "output_type": "display_data"
    },
    {
     "data": {
      "image/png": "[encoded data removed]",
      "text/plain": [
       "<Figure size 432x288 with 1 Axes>"
      ]
     },
     "metadata": {
      "needs_background": "light"
     },
     "output_type": "display_data"
    },
    {
     "data": {
      "image/png": "[encoded data removed]",
      "text/plain": [
       "<Figure size 432x288 with 1 Axes>"
      ]
     },
     "metadata": {
      "needs_background": "light"
     },
     "output_type": "display_data"
    }
   ],
   "source": [
    "import matplotlib.pyplot as plt\n",
    "\n",
    "# show that our mu transform is is working as we intended it to \n",
    "data, original = preprocess_audio('lofibeats/track_0.mp4')\n",
    "values = data.reshape(-1)\n",
    "inverted = inverse_mu(values)\n",
    "\n",
    "plt.hist(values, bins=200)\n",
    "plt.show()\n",
    "plt.hist(original.reshape(-1), bins=200)\n",
    "plt.show()\n",
    "plt.hist(inverted, bins=200)\n",
    "plt.show()"
   ]
  },
  {
   "cell_type": "code",
   "execution_count": 115,
   "metadata": {},
   "outputs": [],
   "source": [
    "from sklearn.preprocessing import OneHotEncoder\n",
    "def one_hot(encoder, data):\n",
    "    data = np.squeeze(data)\n",
    "    data = data[:, None]\n",
    "    return encoder.fit_transform(data)"
   ]
  },
  {
   "cell_type": "code",
   "execution_count": 116,
   "metadata": {},
   "outputs": [],
   "source": [
    "categories = np.arange(0, 256)\n",
    "encoder = OneHotEncoder(categories=[categories], handle_unknown='ignore')\n",
    "test = one_hot(encoder, data)"
   ]
  },
  {
   "cell_type": "code",
   "execution_count": 29,
   "metadata": {},
   "outputs": [
    {
     "data": {
      "image/png": "[encoded data removed]",
      "text/plain": [
       "<Figure size 432x288 with 1 Axes>"
      ]
     },
     "metadata": {
      "needs_background": "light"
     },
     "output_type": "display_data"
    }
   ],
   "source": [
    "plt.hist(out, bins=200)\n",
    "plt.show()"
   ]
  },
  {
   "cell_type": "code",
   "execution_count": 119,
   "metadata": {},
   "outputs": [],
   "source": [
    "import scipy.sparse\n",
    "\n",
    "test = scipy.sparse.load_npz('./sparse_matrices/song_0.sparse.npz')"
   ]
  },
  {
   "cell_type": "code",
   "execution_count": 122,
   "metadata": {},
   "outputs": [],
   "source": [
    "test = test.toarray()"
   ]
  },
  {
   "cell_type": "code",
   "execution_count": null,
   "metadata": {},
   "outputs": [],
   "source": []
  },
  {
   "cell_type": "code",
   "execution_count": null,
   "metadata": {},
   "outputs": [],
   "source": []
  }
 ],
 "metadata": {
  "kernelspec": {
   "display_name": "Python 3",
   "language": "python",
   "name": "python3"
  },
  "language_info": {
   "codemirror_mode": {
    "name": "ipython",
    "version": 3
   },
   "file_extension": ".py",
   "mimetype": "text/x-python",
   "name": "python",
   "nbconvert_exporter": "python",
   "pygments_lexer": "ipython3",
   "version": "3.7.4"
  }
 },
 "nbformat": 4,
 "nbformat_minor": 2
}
