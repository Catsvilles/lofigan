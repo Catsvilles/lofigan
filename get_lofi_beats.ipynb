{
 "cells": [
  {
   "cell_type": "code",
   "execution_count": 1,
   "metadata": {},
   "outputs": [],
   "source": [
    "import os \n",
    "import os.path as osp\n",
    "from pytube import Playlist\n",
    "import requests\n",
    "import pytube\n",
    "\n",
    "\n"
   ]
  },
  {
   "cell_type": "code",
   "execution_count": null,
   "metadata": {},
   "outputs": [],
   "source": []
  },
  {
   "cell_type": "code",
   "execution_count": null,
   "metadata": {},
   "outputs": [],
   "source": []
  },
  {
   "cell_type": "code",
   "execution_count": 17,
   "metadata": {},
   "outputs": [
    {
     "name": "stderr",
     "output_type": "stream",
     "text": [
      "<>:4: DeprecationWarning: invalid escape sequence \\?\n",
      "<>:4: DeprecationWarning: invalid escape sequence \\?\n",
      "<>:4: DeprecationWarning: invalid escape sequence \\?\n",
      "<ipython-input-17-0f61364040d1>:4: DeprecationWarning: invalid escape sequence \\?\n",
      "  all_urls = re.findall('watch\\?v=[a-zA-Z0-9_-]*', r.text)\n"
     ]
    },
    {
     "name": "stdout",
     "output_type": "stream",
     "text": [
      "Skipping 3\n",
      "Skipping 5\n",
      "Skipping 6\n",
      "Skipping 9\n",
      "Skipping 11\n",
      "Skipping 12\n",
      "Skipping 13\n",
      "Skipping 16\n",
      "Skipping 18\n",
      "Skipping 23\n",
      "Skipping 24\n",
      "Skipping 25\n",
      "Skipping 31\n",
      "Skipping 32\n",
      "Skipping 34\n",
      "Skipping 35\n",
      "Skipping 36\n",
      "Skipping 39\n",
      "Skipping 42\n",
      "Skipping 43\n",
      "Skipping 44\n",
      "Skipping 45\n",
      "Skipping 48\n",
      "Skipping 49\n",
      "Skipping 50\n",
      "Skipping 56\n",
      "Skipping 59\n",
      "Skipping 61\n",
      "Skipping 63\n",
      "Skipping 68\n",
      "Skipping 71\n",
      "Skipping 72\n",
      "Skipping 74\n",
      "Skipping 80\n",
      "Skipping 83\n",
      "Skipping 87\n",
      "Skipping 88\n",
      "Skipping 91\n",
      "Skipping 92\n",
      "Skipping 94\n"
     ]
    }
   ],
   "source": [
    "import re\n",
    "import pydub\n",
    "r = requests.get('https://www.youtube.com/playlist?list=PLuDoiEqVUgejiZy0AOEEOLY2YFFXncwEA')\n",
    "all_urls = re.findall('watch\\?v=[a-zA-Z0-9_-]*', r.text)\n",
    "youtube_string = 'www.youtube.com/%s'\n",
    "if not os.path.exists('./lofibeats'): os.makedirs('./lofibeats')\n",
    "for i, suffix in enumerate(all_urls):\n",
    "    if (i in (0, 1)):\n",
    "        continue\n",
    "    this_song = youtube_string % suffix\n",
    "    track_name = 'track_%i'% i\n",
    "    try:\n",
    "        yt = pytube.YouTube(this_song)\n",
    "        yt.streams.filter(only_audio=True).first().download('./lofibeats', filename=track_name)\n",
    "    except:\n",
    "        print('Skipping %i' % i)\n",
    "        continue"
   ]
  },
  {
   "cell_type": "code",
   "execution_count": null,
   "metadata": {},
   "outputs": [],
   "source": [
    "import numpy as np\n",
    "import pydub\n",
    "\n",
    "\n",
    "def load_ndarray()"
   ]
  },
  {
   "cell_type": "code",
   "execution_count": null,
   "metadata": {},
   "outputs": [],
   "source": []
  },
  {
   "cell_type": "code",
   "execution_count": null,
   "metadata": {},
   "outputs": [],
   "source": []
  }
 ],
 "metadata": {
  "kernelspec": {
   "display_name": "Python 3",
   "language": "python",
   "name": "python3"
  },
  "language_info": {
   "codemirror_mode": {
    "name": "ipython",
    "version": 3
   },
   "file_extension": ".py",
   "mimetype": "text/x-python",
   "name": "python",
   "nbconvert_exporter": "python",
   "pygments_lexer": "ipython3",
   "version": "3.7.4"
  }
 },
 "nbformat": 4,
 "nbformat_minor": 2
}
