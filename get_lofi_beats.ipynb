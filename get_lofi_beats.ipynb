{
 "cells": [
  {
   "cell_type": "code",
   "execution_count": 1,
   "metadata": {},
   "outputs": [],
   "source": [
    "import os \n",
    "import os.path as osp\n",
    "from pytube import Playlist\n",
    "import requests\n",
    "import pytube\n",
    "\n",
    "\n"
   ]
  },
  {
   "cell_type": "code",
   "execution_count": null,
   "metadata": {},
   "outputs": [],
   "source": []
  },
  {
   "cell_type": "code",
   "execution_count": null,
   "metadata": {},
   "outputs": [],
   "source": []
  },
  {
   "cell_type": "code",
   "execution_count": 17,
   "metadata": {},
   "outputs": [
    {
     "name": "stderr",
     "output_type": "stream",
     "text": [
      "<>:4: DeprecationWarning: invalid escape sequence \\?\n",
      "<>:4: DeprecationWarning: invalid escape sequence \\?\n",
      "<>:4: DeprecationWarning: invalid escape sequence \\?\n",
      "<ipython-input-17-0f61364040d1>:4: DeprecationWarning: invalid escape sequence \\?\n",
      "  all_urls = re.findall('watch\\?v=[a-zA-Z0-9_-]*', r.text)\n"
     ]
    },
    {
     "name": "stdout",
     "output_type": "stream",
     "text": [
      "Skipping 3\n",
      "Skipping 5\n",
      "Skipping 6\n",
      "Skipping 9\n",
      "Skipping 11\n",
      "Skipping 12\n",
      "Skipping 13\n",
      "Skipping 16\n",
      "Skipping 18\n",
      "Skipping 23\n",
      "Skipping 24\n",
      "Skipping 25\n",
      "Skipping 31\n",
      "Skipping 32\n",
      "Skipping 34\n",
      "Skipping 35\n",
      "Skipping 36\n",
      "Skipping 39\n",
      "Skipping 42\n",
      "Skipping 43\n",
      "Skipping 44\n",
      "Skipping 45\n",
      "Skipping 48\n",
      "Skipping 49\n",
      "Skipping 50\n",
      "Skipping 56\n",
      "Skipping 59\n",
      "Skipping 61\n",
      "Skipping 63\n",
      "Skipping 68\n",
      "Skipping 71\n",
      "Skipping 72\n",
      "Skipping 74\n",
      "Skipping 80\n",
      "Skipping 83\n",
      "Skipping 87\n",
      "Skipping 88\n",
      "Skipping 91\n",
      "Skipping 92\n",
      "Skipping 94\n"
     ]
    }
   ],
   "source": [
    "import re\n",
    "import pydub\n",
    "r = requests.get('https://www.youtube.com/playlist?list=PLuDoiEqVUgejiZy0AOEEOLY2YFFXncwEA')\n",
    "all_urls = re.findall('watch\\?v=[a-zA-Z0-9_-]*', r.text)\n",
    "youtube_string = 'www.youtube.com/%s'\n",
    "if not os.path.exists('./lofibeats'): os.makedirs('./lofibeats')\n",
    "for i, suffix in enumerate(all_urls):\n",
    "    if (i in (0, 1)):\n",
    "        continue\n",
    "    this_song = youtube_string % suffix\n",
    "    track_name = 'track_%i'% i\n",
    "    try:\n",
    "        yt = pytube.YouTube(this_song)\n",
    "        yt.streams.filter(only_audio=True).first().download('./lofibeats', filename=track_name)\n",
    "    except:\n",
    "        print('Skipping %i' % i)\n",
    "        continue"
   ]
  },
  {
   "cell_type": "code",
   "execution_count": 14,
   "metadata": {},
   "outputs": [],
   "source": [
    "import pydub\n",
    "\n",
    "x = pydub.AudioSegment.from_file('./lofibeats/track_0.mp4', 'mp4')"
   ]
  },
  {
   "cell_type": "code",
   "execution_count": 15,
   "metadata": {},
   "outputs": [
    {
     "ename": "CouldntEncodeError",
     "evalue": "Encoding failed. ffmpeg/avlib returned error code: 1\n\nCommand:['ffmpeg', '-y', '-f', 'wav', '-i', '/var/folders/8c/r4yrcmsn5ds0hs2wccgs0qgr0000gn/T/tmpveei8rud', '-f', 'mp3', '/var/folders/8c/r4yrcmsn5ds0hs2wccgs0qgr0000gn/T/tmpud_phqqy']\n\nOutput from ffmpeg/avlib:\n\nb\"ffmpeg version 4.0 Copyright (c) 2000-2018 the FFmpeg developers\\n  built with clang version 4.0.1 (tags/RELEASE_401/final)\\n  configuration: --prefix=/Users/collin/miniconda3/envs/halite --cc=x86_64-apple-darwin13.4.0-clang --disable-doc --enable-shared --enable-static --enable-zlib --enable-pic --enable-gpl --enable-version3 --disable-nonfree --enable-hardcoded-tables --enable-avresample --enable-libfreetype --disable-openssl --disable-gnutls --enable-libvpx --enable-pthreads --enable-libopus --enable-postproc --disable-libx264\\n  libavutil      56. 14.100 / 56. 14.100\\n  libavcodec     58. 18.100 / 58. 18.100\\n  libavformat    58. 12.100 / 58. 12.100\\n  libavdevice    58.  3.100 / 58.  3.100\\n  libavfilter     7. 16.100 /  7. 16.100\\n  libavresample   4.  0.  0 /  4.  0.  0\\n  libswscale      5.  1.100 /  5.  1.100\\n  libswresample   3.  1.100 /  3.  1.100\\n  libpostproc    55.  1.100 / 55.  1.100\\nGuessed Channel Layout for Input Stream #0.0 : stereo\\nInput #0, wav, from '/var/folders/8c/r4yrcmsn5ds0hs2wccgs0qgr0000gn/T/tmpveei8rud':\\n  Duration: 00:02:12.12, bitrate: 1411 kb/s\\n    Stream #0:0: Audio: pcm_s16le ([1][0][0][0] / 0x0001), 44100 Hz, stereo, s16, 1411 kb/s\\nAutomatic encoder selection failed for output stream #0:0. Default encoder for format mp3 (codec mp3) is probably disabled. Please choose an encoder manually.\\nError selecting an encoder for stream 0:0\\n\"",
     "output_type": "error",
     "traceback": [
      "\u001b[0;31m---------------------------------------------------------------------------\u001b[0m",
      "\u001b[0;31mCouldntEncodeError\u001b[0m                        Traceback (most recent call last)",
      "\u001b[0;32m<ipython-input-15-11e7dcc46901>\u001b[0m in \u001b[0;36m<module>\u001b[0;34m\u001b[0m\n\u001b[0;32m----> 1\u001b[0;31m \u001b[0mx\u001b[0m\u001b[0;34m.\u001b[0m\u001b[0mexport\u001b[0m\u001b[0;34m(\u001b[0m\u001b[0;34m'./lofibeats/track_0.mp3'\u001b[0m\u001b[0;34m,\u001b[0m \u001b[0;34m'mp3'\u001b[0m\u001b[0;34m)\u001b[0m\u001b[0;34m\u001b[0m\u001b[0;34m\u001b[0m\u001b[0m\n\u001b[0m",
      "\u001b[0;32m~/miniconda3/envs/halite/lib/python3.7/site-packages/pydub/audio_segment.py\u001b[0m in \u001b[0;36mexport\u001b[0;34m(self, out_f, format, codec, bitrate, parameters, tags, id3v2_version, cover)\u001b[0m\n\u001b[1;32m    875\u001b[0m             raise CouldntEncodeError(\n\u001b[1;32m    876\u001b[0m                 \"Encoding failed. ffmpeg/avlib returned error code: {0}\\n\\nCommand:{1}\\n\\nOutput from ffmpeg/avlib:\\n\\n{2}\".format(\n\u001b[0;32m--> 877\u001b[0;31m                     p.returncode, conversion_command, p_err))\n\u001b[0m\u001b[1;32m    878\u001b[0m \u001b[0;34m\u001b[0m\u001b[0m\n\u001b[1;32m    879\u001b[0m         \u001b[0moutput\u001b[0m\u001b[0;34m.\u001b[0m\u001b[0mseek\u001b[0m\u001b[0;34m(\u001b[0m\u001b[0;36m0\u001b[0m\u001b[0;34m)\u001b[0m\u001b[0;34m\u001b[0m\u001b[0;34m\u001b[0m\u001b[0m\n",
      "\u001b[0;31mCouldntEncodeError\u001b[0m: Encoding failed. ffmpeg/avlib returned error code: 1\n\nCommand:['ffmpeg', '-y', '-f', 'wav', '-i', '/var/folders/8c/r4yrcmsn5ds0hs2wccgs0qgr0000gn/T/tmpveei8rud', '-f', 'mp3', '/var/folders/8c/r4yrcmsn5ds0hs2wccgs0qgr0000gn/T/tmpud_phqqy']\n\nOutput from ffmpeg/avlib:\n\nb\"ffmpeg version 4.0 Copyright (c) 2000-2018 the FFmpeg developers\\n  built with clang version 4.0.1 (tags/RELEASE_401/final)\\n  configuration: --prefix=/Users/collin/miniconda3/envs/halite --cc=x86_64-apple-darwin13.4.0-clang --disable-doc --enable-shared --enable-static --enable-zlib --enable-pic --enable-gpl --enable-version3 --disable-nonfree --enable-hardcoded-tables --enable-avresample --enable-libfreetype --disable-openssl --disable-gnutls --enable-libvpx --enable-pthreads --enable-libopus --enable-postproc --disable-libx264\\n  libavutil      56. 14.100 / 56. 14.100\\n  libavcodec     58. 18.100 / 58. 18.100\\n  libavformat    58. 12.100 / 58. 12.100\\n  libavdevice    58.  3.100 / 58.  3.100\\n  libavfilter     7. 16.100 /  7. 16.100\\n  libavresample   4.  0.  0 /  4.  0.  0\\n  libswscale      5.  1.100 /  5.  1.100\\n  libswresample   3.  1.100 /  3.  1.100\\n  libpostproc    55.  1.100 / 55.  1.100\\nGuessed Channel Layout for Input Stream #0.0 : stereo\\nInput #0, wav, from '/var/folders/8c/r4yrcmsn5ds0hs2wccgs0qgr0000gn/T/tmpveei8rud':\\n  Duration: 00:02:12.12, bitrate: 1411 kb/s\\n    Stream #0:0: Audio: pcm_s16le ([1][0][0][0] / 0x0001), 44100 Hz, stereo, s16, 1411 kb/s\\nAutomatic encoder selection failed for output stream #0:0. Default encoder for format mp3 (codec mp3) is probably disabled. Please choose an encoder manually.\\nError selecting an encoder for stream 0:0\\n\""
     ]
    }
   ],
   "source": [
    "x.export('./lofibeats/track_0.mp3', 'mp3')"
   ]
  },
  {
   "cell_type": "code",
   "execution_count": null,
   "metadata": {},
   "outputs": [],
   "source": []
  }
 ],
 "metadata": {
  "kernelspec": {
   "display_name": "Python 3",
   "language": "python",
   "name": "python3"
  },
  "language_info": {
   "codemirror_mode": {
    "name": "ipython",
    "version": 3
   },
   "file_extension": ".py",
   "mimetype": "text/x-python",
   "name": "python",
   "nbconvert_exporter": "python",
   "pygments_lexer": "ipython3",
   "version": "3.7.4"
  }
 },
 "nbformat": 4,
 "nbformat_minor": 2
}
